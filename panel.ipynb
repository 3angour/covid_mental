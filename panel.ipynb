{
 "cells": [
  {
   "cell_type": "code",
   "execution_count": 1,
   "metadata": {},
   "outputs": [
    {
     "data": {
      "application/javascript": "(function(root) {\n  function now() {\n    return new Date();\n  }\n\n  var force = true;\n  var py_version = '3.3.2'.replace('rc', '-rc.').replace('.dev', '-dev.');\n  var reloading = false;\n  var Bokeh = root.Bokeh;\n\n  if (typeof (root._bokeh_timeout) === \"undefined\" || force) {\n    root._bokeh_timeout = Date.now() + 5000;\n    root._bokeh_failed_load = false;\n  }\n\n  function run_callbacks() {\n    try {\n      root._bokeh_onload_callbacks.forEach(function(callback) {\n        if (callback != null)\n          callback();\n      });\n    } finally {\n      delete root._bokeh_onload_callbacks;\n    }\n    console.debug(\"Bokeh: all callbacks have finished\");\n  }\n\n  function load_libs(css_urls, js_urls, js_modules, js_exports, callback) {\n    if (css_urls == null) css_urls = [];\n    if (js_urls == null) js_urls = [];\n    if (js_modules == null) js_modules = [];\n    if (js_exports == null) js_exports = {};\n\n    root._bokeh_onload_callbacks.push(callback);\n\n    if (root._bokeh_is_loading > 0) {\n      console.debug(\"Bokeh: BokehJS is being loaded, scheduling callback at\", now());\n      return null;\n    }\n    if (js_urls.length === 0 && js_modules.length === 0 && Object.keys(js_exports).length === 0) {\n      run_callbacks();\n      return null;\n    }\n    if (!reloading) {\n      console.debug(\"Bokeh: BokehJS not loaded, scheduling load and callback at\", now());\n    }\n\n    function on_load() {\n      root._bokeh_is_loading--;\n      if (root._bokeh_is_loading === 0) {\n        console.debug(\"Bokeh: all BokehJS libraries/stylesheets loaded\");\n        run_callbacks()\n      }\n    }\n    window._bokeh_on_load = on_load\n\n    function on_error() {\n      console.error(\"failed to load \" + url);\n    }\n\n    var skip = [];\n    if (window.requirejs) {\n      window.requirejs.config({'packages': {}, 'paths': {'plotly': 'https://cdn.plot.ly/plotly-2.18.0.min', 'jspanel': 'https://cdn.jsdelivr.net/npm/jspanel4@4.12.0/dist/jspanel', 'jspanel-modal': 'https://cdn.jsdelivr.net/npm/jspanel4@4.12.0/dist/extensions/modal/jspanel.modal', 'jspanel-tooltip': 'https://cdn.jsdelivr.net/npm/jspanel4@4.12.0/dist/extensions/tooltip/jspanel.tooltip', 'jspanel-hint': 'https://cdn.jsdelivr.net/npm/jspanel4@4.12.0/dist/extensions/hint/jspanel.hint', 'jspanel-layout': 'https://cdn.jsdelivr.net/npm/jspanel4@4.12.0/dist/extensions/layout/jspanel.layout', 'jspanel-contextmenu': 'https://cdn.jsdelivr.net/npm/jspanel4@4.12.0/dist/extensions/contextmenu/jspanel.contextmenu', 'jspanel-dock': 'https://cdn.jsdelivr.net/npm/jspanel4@4.12.0/dist/extensions/dock/jspanel.dock', 'gridstack': 'https://cdn.jsdelivr.net/npm/gridstack@7.2.3/dist/gridstack-all', 'notyf': 'https://cdn.jsdelivr.net/npm/notyf@3/notyf.min'}, 'shim': {'jspanel': {'exports': 'jsPanel'}, 'gridstack': {'exports': 'GridStack'}}});\n      require([\"plotly\"], function(Plotly) {\n\twindow.Plotly = Plotly\n\ton_load()\n      })\n      require([\"jspanel\"], function(jsPanel) {\n\twindow.jsPanel = jsPanel\n\ton_load()\n      })\n      require([\"jspanel-modal\"], function() {\n\ton_load()\n      })\n      require([\"jspanel-tooltip\"], function() {\n\ton_load()\n      })\n      require([\"jspanel-hint\"], function() {\n\ton_load()\n      })\n      require([\"jspanel-layout\"], function() {\n\ton_load()\n      })\n      require([\"jspanel-contextmenu\"], function() {\n\ton_load()\n      })\n      require([\"jspanel-dock\"], function() {\n\ton_load()\n      })\n      require([\"gridstack\"], function(GridStack) {\n\twindow.GridStack = GridStack\n\ton_load()\n      })\n      require([\"notyf\"], function() {\n\ton_load()\n      })\n      root._bokeh_is_loading = css_urls.length + 10;\n    } else {\n      root._bokeh_is_loading = css_urls.length + js_urls.length + js_modules.length + Object.keys(js_exports).length;\n    }\n\n    var existing_stylesheets = []\n    var links = document.getElementsByTagName('link')\n    for (var i = 0; i < links.length; i++) {\n      var link = links[i]\n      if (link.href != null) {\n\texisting_stylesheets.push(link.href)\n      }\n    }\n    for (var i = 0; i < css_urls.length; i++) {\n      var url = css_urls[i];\n      if (existing_stylesheets.indexOf(url) !== -1) {\n\ton_load()\n\tcontinue;\n      }\n      const element = document.createElement(\"link\");\n      element.onload = on_load;\n      element.onerror = on_error;\n      element.rel = \"stylesheet\";\n      element.type = \"text/css\";\n      element.href = url;\n      console.debug(\"Bokeh: injecting link tag for BokehJS stylesheet: \", url);\n      document.body.appendChild(element);\n    }    if (((window['Plotly'] !== undefined) && (!(window['Plotly'] instanceof HTMLElement))) || window.requirejs) {\n      var urls = ['https://cdn.holoviz.org/panel/1.3.6/dist/bundled/plotlyplot/plotly-2.18.0.min.js'];\n      for (var i = 0; i < urls.length; i++) {\n        skip.push(urls[i])\n      }\n    }    if (((window['jsPanel'] !== undefined) && (!(window['jsPanel'] instanceof HTMLElement))) || window.requirejs) {\n      var urls = ['https://cdn.holoviz.org/panel/1.3.6/dist/bundled/floatpanel/jspanel4@4.12.0/dist/jspanel.js', 'https://cdn.holoviz.org/panel/1.3.6/dist/bundled/floatpanel/jspanel4@4.12.0/dist/extensions/modal/jspanel.modal.js', 'https://cdn.holoviz.org/panel/1.3.6/dist/bundled/floatpanel/jspanel4@4.12.0/dist/extensions/tooltip/jspanel.tooltip.js', 'https://cdn.holoviz.org/panel/1.3.6/dist/bundled/floatpanel/jspanel4@4.12.0/dist/extensions/hint/jspanel.hint.js', 'https://cdn.holoviz.org/panel/1.3.6/dist/bundled/floatpanel/jspanel4@4.12.0/dist/extensions/layout/jspanel.layout.js', 'https://cdn.holoviz.org/panel/1.3.6/dist/bundled/floatpanel/jspanel4@4.12.0/dist/extensions/contextmenu/jspanel.contextmenu.js', 'https://cdn.holoviz.org/panel/1.3.6/dist/bundled/floatpanel/jspanel4@4.12.0/dist/extensions/dock/jspanel.dock.js'];\n      for (var i = 0; i < urls.length; i++) {\n        skip.push(urls[i])\n      }\n    }    if (((window['GridStack'] !== undefined) && (!(window['GridStack'] instanceof HTMLElement))) || window.requirejs) {\n      var urls = ['https://cdn.holoviz.org/panel/1.3.6/dist/bundled/gridstack/gridstack@7.2.3/dist/gridstack-all.js'];\n      for (var i = 0; i < urls.length; i++) {\n        skip.push(urls[i])\n      }\n    }    if (((window['Notyf'] !== undefined) && (!(window['Notyf'] instanceof HTMLElement))) || window.requirejs) {\n      var urls = ['https://cdn.holoviz.org/panel/1.3.6/dist/bundled/notificationarea/notyf@3/notyf.min.js'];\n      for (var i = 0; i < urls.length; i++) {\n        skip.push(urls[i])\n      }\n    }    var existing_scripts = []\n    var scripts = document.getElementsByTagName('script')\n    for (var i = 0; i < scripts.length; i++) {\n      var script = scripts[i]\n      if (script.src != null) {\n\texisting_scripts.push(script.src)\n      }\n    }\n    for (var i = 0; i < js_urls.length; i++) {\n      var url = js_urls[i];\n      if (skip.indexOf(url) !== -1 || existing_scripts.indexOf(url) !== -1) {\n\tif (!window.requirejs) {\n\t  on_load();\n\t}\n\tcontinue;\n      }\n      var element = document.createElement('script');\n      element.onload = on_load;\n      element.onerror = on_error;\n      element.async = false;\n      element.src = url;\n      console.debug(\"Bokeh: injecting script tag for BokehJS library: \", url);\n      document.head.appendChild(element);\n    }\n    for (var i = 0; i < js_modules.length; i++) {\n      var url = js_modules[i];\n      if (skip.indexOf(url) !== -1 || existing_scripts.indexOf(url) !== -1) {\n\tif (!window.requirejs) {\n\t  on_load();\n\t}\n\tcontinue;\n      }\n      var element = document.createElement('script');\n      element.onload = on_load;\n      element.onerror = on_error;\n      element.async = false;\n      element.src = url;\n      element.type = \"module\";\n      console.debug(\"Bokeh: injecting script tag for BokehJS library: \", url);\n      document.head.appendChild(element);\n    }\n    for (const name in js_exports) {\n      var url = js_exports[name];\n      if (skip.indexOf(url) >= 0 || root[name] != null) {\n\tif (!window.requirejs) {\n\t  on_load();\n\t}\n\tcontinue;\n      }\n      var element = document.createElement('script');\n      element.onerror = on_error;\n      element.async = false;\n      element.type = \"module\";\n      console.debug(\"Bokeh: injecting script tag for BokehJS library: \", url);\n      element.textContent = `\n      import ${name} from \"${url}\"\n      window.${name} = ${name}\n      window._bokeh_on_load()\n      `\n      document.head.appendChild(element);\n    }\n    if (!js_urls.length && !js_modules.length) {\n      on_load()\n    }\n  };\n\n  function inject_raw_css(css) {\n    const element = document.createElement(\"style\");\n    element.appendChild(document.createTextNode(css));\n    document.body.appendChild(element);\n  }\n\n  var js_urls = [\"https://cdn.holoviz.org/panel/1.3.6/dist/bundled/jquery/jquery.slim.min.js\", \"https://cdn.holoviz.org/panel/1.3.6/dist/bundled/plotlyplot/plotly-2.18.0.min.js\", \"https://cdn.bokeh.org/bokeh/release/bokeh-3.3.2.min.js\", \"https://cdn.bokeh.org/bokeh/release/bokeh-gl-3.3.2.min.js\", \"https://cdn.bokeh.org/bokeh/release/bokeh-widgets-3.3.2.min.js\", \"https://cdn.bokeh.org/bokeh/release/bokeh-tables-3.3.2.min.js\", \"https://cdn.holoviz.org/panel/1.3.6/dist/panel.min.js\"];\n  var js_modules = [];\n  var js_exports = {};\n  var css_urls = [];\n  var inline_js = [    function(Bokeh) {\n      inject_raw_css(\".bordered {\\n    border: 2px solid lightgrey;\\n    border-radius: 5px;\\n    margin: 1px;\\n}\\n\\n.flex-3 {\\n    flex: 3;\\n}\\n\\n.flex-13 {\\n    flex: 1.3;\\n}\\n\\n.flex-1 {\\n    flex: 1;\\n}\\n\\n.half-width {\\n    width: 50%; /* Take up half the space of the parent */\\n    margin: 0 auto; /* Center the row within the parent */\\n}\");\n    },    function(Bokeh) {\n      Bokeh.set_log_level(\"info\");\n    },\nfunction(Bokeh) {} // ensure no trailing comma for IE\n  ];\n\n  function run_inline_js() {\n    if ((root.Bokeh !== undefined) || (force === true)) {\n      for (var i = 0; i < inline_js.length; i++) {\n\ttry {\n          inline_js[i].call(root, root.Bokeh);\n\t} catch(e) {\n\t  if (!reloading) {\n\t    throw e;\n\t  }\n\t}\n      }\n      // Cache old bokeh versions\n      if (Bokeh != undefined && !reloading) {\n\tvar NewBokeh = root.Bokeh;\n\tif (Bokeh.versions === undefined) {\n\t  Bokeh.versions = new Map();\n\t}\n\tif (NewBokeh.version !== Bokeh.version) {\n\t  Bokeh.versions.set(NewBokeh.version, NewBokeh)\n\t}\n\troot.Bokeh = Bokeh;\n      }} else if (Date.now() < root._bokeh_timeout) {\n      setTimeout(run_inline_js, 100);\n    } else if (!root._bokeh_failed_load) {\n      console.log(\"Bokeh: BokehJS failed to load within specified timeout.\");\n      root._bokeh_failed_load = true;\n    }\n    root._bokeh_is_initializing = false\n  }\n\n  function load_or_wait() {\n    // Implement a backoff loop that tries to ensure we do not load multiple\n    // versions of Bokeh and its dependencies at the same time.\n    // In recent versions we use the root._bokeh_is_initializing flag\n    // to determine whether there is an ongoing attempt to initialize\n    // bokeh, however for backward compatibility we also try to ensure\n    // that we do not start loading a newer (Panel>=1.0 and Bokeh>3) version\n    // before older versions are fully initialized.\n    if (root._bokeh_is_initializing && Date.now() > root._bokeh_timeout) {\n      root._bokeh_is_initializing = false;\n      root._bokeh_onload_callbacks = undefined;\n      console.log(\"Bokeh: BokehJS was loaded multiple times but one version failed to initialize.\");\n      load_or_wait();\n    } else if (root._bokeh_is_initializing || (typeof root._bokeh_is_initializing === \"undefined\" && root._bokeh_onload_callbacks !== undefined)) {\n      setTimeout(load_or_wait, 100);\n    } else {\n      root._bokeh_is_initializing = true\n      root._bokeh_onload_callbacks = []\n      var bokeh_loaded = Bokeh != null && (Bokeh.version === py_version || (Bokeh.versions !== undefined && Bokeh.versions.has(py_version)));\n      if (!reloading && !bokeh_loaded) {\n\troot.Bokeh = undefined;\n      }\n      load_libs(css_urls, js_urls, js_modules, js_exports, function() {\n\tconsole.debug(\"Bokeh: BokehJS plotting callback run at\", now());\n\trun_inline_js();\n      });\n    }\n  }\n  // Give older versions of the autoload script a head-start to ensure\n  // they initialize before we start loading newer version.\n  setTimeout(load_or_wait, 100)\n}(window));",
      "application/vnd.holoviews_load.v0+json": ""
     },
     "metadata": {},
     "output_type": "display_data"
    },
    {
     "data": {
      "application/javascript": "\nif ((window.PyViz === undefined) || (window.PyViz instanceof HTMLElement)) {\n  window.PyViz = {comms: {}, comm_status:{}, kernels:{}, receivers: {}, plot_index: []}\n}\n\n\n    function JupyterCommManager() {\n    }\n\n    JupyterCommManager.prototype.register_target = function(plot_id, comm_id, msg_handler) {\n      if (window.comm_manager || ((window.Jupyter !== undefined) && (Jupyter.notebook.kernel != null))) {\n        var comm_manager = window.comm_manager || Jupyter.notebook.kernel.comm_manager;\n        comm_manager.register_target(comm_id, function(comm) {\n          comm.on_msg(msg_handler);\n        });\n      } else if ((plot_id in window.PyViz.kernels) && (window.PyViz.kernels[plot_id])) {\n        window.PyViz.kernels[plot_id].registerCommTarget(comm_id, function(comm) {\n          comm.onMsg = msg_handler;\n        });\n      } else if (typeof google != 'undefined' && google.colab.kernel != null) {\n        google.colab.kernel.comms.registerTarget(comm_id, (comm) => {\n          var messages = comm.messages[Symbol.asyncIterator]();\n          function processIteratorResult(result) {\n            var message = result.value;\n            console.log(message)\n            var content = {data: message.data, comm_id};\n            var buffers = []\n            for (var buffer of message.buffers || []) {\n              buffers.push(new DataView(buffer))\n            }\n            var metadata = message.metadata || {};\n            var msg = {content, buffers, metadata}\n            msg_handler(msg);\n            return messages.next().then(processIteratorResult);\n          }\n          return messages.next().then(processIteratorResult);\n        })\n      }\n    }\n\n    JupyterCommManager.prototype.get_client_comm = function(plot_id, comm_id, msg_handler) {\n      if (comm_id in window.PyViz.comms) {\n        return window.PyViz.comms[comm_id];\n      } else if (window.comm_manager || ((window.Jupyter !== undefined) && (Jupyter.notebook.kernel != null))) {\n        var comm_manager = window.comm_manager || Jupyter.notebook.kernel.comm_manager;\n        var comm = comm_manager.new_comm(comm_id, {}, {}, {}, comm_id);\n        if (msg_handler) {\n          comm.on_msg(msg_handler);\n        }\n      } else if ((plot_id in window.PyViz.kernels) && (window.PyViz.kernels[plot_id])) {\n        var comm = window.PyViz.kernels[plot_id].connectToComm(comm_id);\n        comm.open();\n        if (msg_handler) {\n          comm.onMsg = msg_handler;\n        }\n      } else if (typeof google != 'undefined' && google.colab.kernel != null) {\n        var comm_promise = google.colab.kernel.comms.open(comm_id)\n        comm_promise.then((comm) => {\n          window.PyViz.comms[comm_id] = comm;\n          if (msg_handler) {\n            var messages = comm.messages[Symbol.asyncIterator]();\n            function processIteratorResult(result) {\n              var message = result.value;\n              var content = {data: message.data};\n              var metadata = message.metadata || {comm_id};\n              var msg = {content, metadata}\n              msg_handler(msg);\n              return messages.next().then(processIteratorResult);\n            }\n            return messages.next().then(processIteratorResult);\n          }\n        }) \n        var sendClosure = (data, metadata, buffers, disposeOnDone) => {\n          return comm_promise.then((comm) => {\n            comm.send(data, metadata, buffers, disposeOnDone);\n          });\n        };\n        var comm = {\n          send: sendClosure\n        };\n      }\n      window.PyViz.comms[comm_id] = comm;\n      return comm;\n    }\n    window.PyViz.comm_manager = new JupyterCommManager();\n    \n\n\nvar JS_MIME_TYPE = 'application/javascript';\nvar HTML_MIME_TYPE = 'text/html';\nvar EXEC_MIME_TYPE = 'application/vnd.holoviews_exec.v0+json';\nvar CLASS_NAME = 'output';\n\n/**\n * Render data to the DOM node\n */\nfunction render(props, node) {\n  var div = document.createElement(\"div\");\n  var script = document.createElement(\"script\");\n  node.appendChild(div);\n  node.appendChild(script);\n}\n\n/**\n * Handle when a new output is added\n */\nfunction handle_add_output(event, handle) {\n  var output_area = handle.output_area;\n  var output = handle.output;\n  if ((output.data == undefined) || (!output.data.hasOwnProperty(EXEC_MIME_TYPE))) {\n    return\n  }\n  var id = output.metadata[EXEC_MIME_TYPE][\"id\"];\n  var toinsert = output_area.element.find(\".\" + CLASS_NAME.split(' ')[0]);\n  if (id !== undefined) {\n    var nchildren = toinsert.length;\n    var html_node = toinsert[nchildren-1].children[0];\n    html_node.innerHTML = output.data[HTML_MIME_TYPE];\n    var scripts = [];\n    var nodelist = html_node.querySelectorAll(\"script\");\n    for (var i in nodelist) {\n      if (nodelist.hasOwnProperty(i)) {\n        scripts.push(nodelist[i])\n      }\n    }\n\n    scripts.forEach( function (oldScript) {\n      var newScript = document.createElement(\"script\");\n      var attrs = [];\n      var nodemap = oldScript.attributes;\n      for (var j in nodemap) {\n        if (nodemap.hasOwnProperty(j)) {\n          attrs.push(nodemap[j])\n        }\n      }\n      attrs.forEach(function(attr) { newScript.setAttribute(attr.name, attr.value) });\n      newScript.appendChild(document.createTextNode(oldScript.innerHTML));\n      oldScript.parentNode.replaceChild(newScript, oldScript);\n    });\n    if (JS_MIME_TYPE in output.data) {\n      toinsert[nchildren-1].children[1].textContent = output.data[JS_MIME_TYPE];\n    }\n    output_area._hv_plot_id = id;\n    if ((window.Bokeh !== undefined) && (id in Bokeh.index)) {\n      window.PyViz.plot_index[id] = Bokeh.index[id];\n    } else {\n      window.PyViz.plot_index[id] = null;\n    }\n  } else if (output.metadata[EXEC_MIME_TYPE][\"server_id\"] !== undefined) {\n    var bk_div = document.createElement(\"div\");\n    bk_div.innerHTML = output.data[HTML_MIME_TYPE];\n    var script_attrs = bk_div.children[0].attributes;\n    for (var i = 0; i < script_attrs.length; i++) {\n      toinsert[toinsert.length - 1].childNodes[1].setAttribute(script_attrs[i].name, script_attrs[i].value);\n    }\n    // store reference to server id on output_area\n    output_area._bokeh_server_id = output.metadata[EXEC_MIME_TYPE][\"server_id\"];\n  }\n}\n\n/**\n * Handle when an output is cleared or removed\n */\nfunction handle_clear_output(event, handle) {\n  var id = handle.cell.output_area._hv_plot_id;\n  var server_id = handle.cell.output_area._bokeh_server_id;\n  if (((id === undefined) || !(id in PyViz.plot_index)) && (server_id !== undefined)) { return; }\n  var comm = window.PyViz.comm_manager.get_client_comm(\"hv-extension-comm\", \"hv-extension-comm\", function () {});\n  if (server_id !== null) {\n    comm.send({event_type: 'server_delete', 'id': server_id});\n    return;\n  } else if (comm !== null) {\n    comm.send({event_type: 'delete', 'id': id});\n  }\n  delete PyViz.plot_index[id];\n  if ((window.Bokeh !== undefined) & (id in window.Bokeh.index)) {\n    var doc = window.Bokeh.index[id].model.document\n    doc.clear();\n    const i = window.Bokeh.documents.indexOf(doc);\n    if (i > -1) {\n      window.Bokeh.documents.splice(i, 1);\n    }\n  }\n}\n\n/**\n * Handle kernel restart event\n */\nfunction handle_kernel_cleanup(event, handle) {\n  delete PyViz.comms[\"hv-extension-comm\"];\n  window.PyViz.plot_index = {}\n}\n\n/**\n * Handle update_display_data messages\n */\nfunction handle_update_output(event, handle) {\n  handle_clear_output(event, {cell: {output_area: handle.output_area}})\n  handle_add_output(event, handle)\n}\n\nfunction register_renderer(events, OutputArea) {\n  function append_mime(data, metadata, element) {\n    // create a DOM node to render to\n    var toinsert = this.create_output_subarea(\n    metadata,\n    CLASS_NAME,\n    EXEC_MIME_TYPE\n    );\n    this.keyboard_manager.register_events(toinsert);\n    // Render to node\n    var props = {data: data, metadata: metadata[EXEC_MIME_TYPE]};\n    render(props, toinsert[0]);\n    element.append(toinsert);\n    return toinsert\n  }\n\n  events.on('output_added.OutputArea', handle_add_output);\n  events.on('output_updated.OutputArea', handle_update_output);\n  events.on('clear_output.CodeCell', handle_clear_output);\n  events.on('delete.Cell', handle_clear_output);\n  events.on('kernel_ready.Kernel', handle_kernel_cleanup);\n\n  OutputArea.prototype.register_mime_type(EXEC_MIME_TYPE, append_mime, {\n    safe: true,\n    index: 0\n  });\n}\n\nif (window.Jupyter !== undefined) {\n  try {\n    var events = require('base/js/events');\n    var OutputArea = require('notebook/js/outputarea').OutputArea;\n    if (OutputArea.prototype.mime_types().indexOf(EXEC_MIME_TYPE) == -1) {\n      register_renderer(events, OutputArea);\n    }\n  } catch(err) {\n  }\n}\n",
      "application/vnd.holoviews_load.v0+json": ""
     },
     "metadata": {},
     "output_type": "display_data"
    },
    {
     "data": {
      "text/html": [
       "<style>*[data-root-id],\n",
       "*[data-root-id] > * {\n",
       "  box-sizing: border-box;\n",
       "  font-family: var(--jp-ui-font-family);\n",
       "  font-size: var(--jp-ui-font-size1);\n",
       "  color: var(--vscode-editor-foreground, var(--jp-ui-font-color1));\n",
       "}\n",
       "\n",
       "/* Override VSCode background color */\n",
       ".cell-output-ipywidget-background:has(\n",
       "    > .cell-output-ipywidget-background > .lm-Widget > *[data-root-id]\n",
       "  ),\n",
       ".cell-output-ipywidget-background:has(> .lm-Widget > *[data-root-id]) {\n",
       "  background-color: transparent !important;\n",
       "}\n",
       "</style>"
      ]
     },
     "metadata": {},
     "output_type": "display_data"
    },
    {
     "data": {
      "application/vnd.holoviews_exec.v0+json": "",
      "text/html": [
       "<div id='bad67e85-34cd-431a-9202-30945ebe5499'>\n",
       "  <div id=\"b185105a-ed94-46ab-b509-6e9e143db212\" data-root-id=\"bad67e85-34cd-431a-9202-30945ebe5499\" style=\"display: contents;\"></div>\n",
       "</div>\n",
       "<script type=\"application/javascript\">(function(root) {\n",
       "  var docs_json = {\"d0816798-02d3-4a92-9f8d-f2a58ca49655\":{\"version\":\"3.3.2\",\"title\":\"Bokeh Application\",\"roots\":[{\"type\":\"object\",\"name\":\"panel.models.browser.BrowserInfo\",\"id\":\"bad67e85-34cd-431a-9202-30945ebe5499\"},{\"type\":\"object\",\"name\":\"panel.models.comm_manager.CommManager\",\"id\":\"c4695fbe-5afa-459c-99d7-81125a13a2f9\",\"attributes\":{\"plot_id\":\"bad67e85-34cd-431a-9202-30945ebe5499\",\"comm_id\":\"01ef8561c28f4de29c36c27f396c84f6\",\"client_comm_id\":\"67583086f27a485e8f32ccd4725482f5\"}}],\"defs\":[{\"type\":\"model\",\"name\":\"ReactiveHTML1\"},{\"type\":\"model\",\"name\":\"FlexBox1\",\"properties\":[{\"name\":\"align_content\",\"kind\":\"Any\",\"default\":\"flex-start\"},{\"name\":\"align_items\",\"kind\":\"Any\",\"default\":\"flex-start\"},{\"name\":\"flex_direction\",\"kind\":\"Any\",\"default\":\"row\"},{\"name\":\"flex_wrap\",\"kind\":\"Any\",\"default\":\"wrap\"},{\"name\":\"justify_content\",\"kind\":\"Any\",\"default\":\"flex-start\"}]},{\"type\":\"model\",\"name\":\"FloatPanel1\",\"properties\":[{\"name\":\"config\",\"kind\":\"Any\",\"default\":{\"type\":\"map\"}},{\"name\":\"contained\",\"kind\":\"Any\",\"default\":true},{\"name\":\"position\",\"kind\":\"Any\",\"default\":\"right-top\"},{\"name\":\"offsetx\",\"kind\":\"Any\",\"default\":null},{\"name\":\"offsety\",\"kind\":\"Any\",\"default\":null},{\"name\":\"theme\",\"kind\":\"Any\",\"default\":\"primary\"},{\"name\":\"status\",\"kind\":\"Any\",\"default\":\"normalized\"}]},{\"type\":\"model\",\"name\":\"GridStack1\",\"properties\":[{\"name\":\"mode\",\"kind\":\"Any\",\"default\":\"warn\"},{\"name\":\"ncols\",\"kind\":\"Any\",\"default\":null},{\"name\":\"nrows\",\"kind\":\"Any\",\"default\":null},{\"name\":\"allow_resize\",\"kind\":\"Any\",\"default\":true},{\"name\":\"allow_drag\",\"kind\":\"Any\",\"default\":true},{\"name\":\"state\",\"kind\":\"Any\",\"default\":[]}]},{\"type\":\"model\",\"name\":\"drag1\",\"properties\":[{\"name\":\"slider_width\",\"kind\":\"Any\",\"default\":5},{\"name\":\"slider_color\",\"kind\":\"Any\",\"default\":\"black\"},{\"name\":\"value\",\"kind\":\"Any\",\"default\":50}]},{\"type\":\"model\",\"name\":\"click1\",\"properties\":[{\"name\":\"terminal_output\",\"kind\":\"Any\",\"default\":\"\"},{\"name\":\"debug_name\",\"kind\":\"Any\",\"default\":\"\"},{\"name\":\"clears\",\"kind\":\"Any\",\"default\":0}]},{\"type\":\"model\",\"name\":\"copy_to_clipboard1\",\"properties\":[{\"name\":\"fill\",\"kind\":\"Any\",\"default\":\"none\"},{\"name\":\"value\",\"kind\":\"Any\",\"default\":null}]},{\"type\":\"model\",\"name\":\"FastWrapper1\",\"properties\":[{\"name\":\"object\",\"kind\":\"Any\",\"default\":null},{\"name\":\"style\",\"kind\":\"Any\",\"default\":null}]},{\"type\":\"model\",\"name\":\"NotificationAreaBase1\",\"properties\":[{\"name\":\"js_events\",\"kind\":\"Any\",\"default\":{\"type\":\"map\"}},{\"name\":\"position\",\"kind\":\"Any\",\"default\":\"bottom-right\"},{\"name\":\"_clear\",\"kind\":\"Any\",\"default\":0}]},{\"type\":\"model\",\"name\":\"NotificationArea1\",\"properties\":[{\"name\":\"js_events\",\"kind\":\"Any\",\"default\":{\"type\":\"map\"}},{\"name\":\"notifications\",\"kind\":\"Any\",\"default\":[]},{\"name\":\"position\",\"kind\":\"Any\",\"default\":\"bottom-right\"},{\"name\":\"_clear\",\"kind\":\"Any\",\"default\":0},{\"name\":\"types\",\"kind\":\"Any\",\"default\":[{\"type\":\"map\",\"entries\":[[\"type\",\"warning\"],[\"background\",\"#ffc107\"],[\"icon\",{\"type\":\"map\",\"entries\":[[\"className\",\"fas fa-exclamation-triangle\"],[\"tagName\",\"i\"],[\"color\",\"white\"]]}]]},{\"type\":\"map\",\"entries\":[[\"type\",\"info\"],[\"background\",\"#007bff\"],[\"icon\",{\"type\":\"map\",\"entries\":[[\"className\",\"fas fa-info-circle\"],[\"tagName\",\"i\"],[\"color\",\"white\"]]}]]}]}]},{\"type\":\"model\",\"name\":\"Notification\",\"properties\":[{\"name\":\"background\",\"kind\":\"Any\",\"default\":null},{\"name\":\"duration\",\"kind\":\"Any\",\"default\":3000},{\"name\":\"icon\",\"kind\":\"Any\",\"default\":null},{\"name\":\"message\",\"kind\":\"Any\",\"default\":\"\"},{\"name\":\"notification_type\",\"kind\":\"Any\",\"default\":null},{\"name\":\"_destroyed\",\"kind\":\"Any\",\"default\":false}]},{\"type\":\"model\",\"name\":\"TemplateActions1\",\"properties\":[{\"name\":\"open_modal\",\"kind\":\"Any\",\"default\":0},{\"name\":\"close_modal\",\"kind\":\"Any\",\"default\":0}]},{\"type\":\"model\",\"name\":\"BootstrapTemplateActions1\",\"properties\":[{\"name\":\"open_modal\",\"kind\":\"Any\",\"default\":0},{\"name\":\"close_modal\",\"kind\":\"Any\",\"default\":0}]},{\"type\":\"model\",\"name\":\"MaterialTemplateActions1\",\"properties\":[{\"name\":\"open_modal\",\"kind\":\"Any\",\"default\":0},{\"name\":\"close_modal\",\"kind\":\"Any\",\"default\":0}]}]}};\n",
       "  var render_items = [{\"docid\":\"d0816798-02d3-4a92-9f8d-f2a58ca49655\",\"roots\":{\"bad67e85-34cd-431a-9202-30945ebe5499\":\"b185105a-ed94-46ab-b509-6e9e143db212\"},\"root_ids\":[\"bad67e85-34cd-431a-9202-30945ebe5499\"]}];\n",
       "  var docs = Object.values(docs_json)\n",
       "  if (!docs) {\n",
       "    return\n",
       "  }\n",
       "  const py_version = docs[0].version.replace('rc', '-rc.').replace('.dev', '-dev.')\n",
       "  function embed_document(root) {\n",
       "    var Bokeh = get_bokeh(root)\n",
       "    Bokeh.embed.embed_items_notebook(docs_json, render_items);\n",
       "    for (const render_item of render_items) {\n",
       "      for (const root_id of render_item.root_ids) {\n",
       "\tconst id_el = document.getElementById(root_id)\n",
       "\tif (id_el.children.length && (id_el.children[0].className === 'bk-root')) {\n",
       "\t  const root_el = id_el.children[0]\n",
       "\t  root_el.id = root_el.id + '-rendered'\n",
       "\t}\n",
       "      }\n",
       "    }\n",
       "  }\n",
       "  function get_bokeh(root) {\n",
       "    if (root.Bokeh === undefined) {\n",
       "      return null\n",
       "    } else if (root.Bokeh.version !== py_version) {\n",
       "      if (root.Bokeh.versions === undefined || !root.Bokeh.versions.has(py_version)) {\n",
       "\treturn null\n",
       "      }\n",
       "      return root.Bokeh.versions.get(py_version);\n",
       "    } else if (root.Bokeh.version === py_version) {\n",
       "      return root.Bokeh\n",
       "    }\n",
       "    return null\n",
       "  }\n",
       "  function is_loaded(root) {\n",
       "    var Bokeh = get_bokeh(root)\n",
       "    return (Bokeh != null && Bokeh.Panel !== undefined && ( root['Plotly'] !== undefined) && ( root['Plotly'] !== undefined))\n",
       "  }\n",
       "  if (is_loaded(root)) {\n",
       "    embed_document(root);\n",
       "  } else {\n",
       "    var attempts = 0;\n",
       "    var timer = setInterval(function(root) {\n",
       "      if (is_loaded(root)) {\n",
       "        clearInterval(timer);\n",
       "        embed_document(root);\n",
       "      } else if (document.readyState == \"complete\") {\n",
       "        attempts++;\n",
       "        if (attempts > 200) {\n",
       "          clearInterval(timer);\n",
       "\t  var Bokeh = get_bokeh(root)\n",
       "\t  if (Bokeh == null || Bokeh.Panel == null) {\n",
       "            console.warn(\"Panel: ERROR: Unable to run Panel code because Bokeh or Panel library is missing\");\n",
       "\t  } else {\n",
       "\t    console.warn(\"Panel: WARNING: Attempting to render but not all required libraries could be resolved.\")\n",
       "\t    embed_document(root)\n",
       "\t  }\n",
       "        }\n",
       "      }\n",
       "    }, 25, root)\n",
       "  }\n",
       "})(window);</script>"
      ]
     },
     "metadata": {
      "application/vnd.holoviews_exec.v0+json": {
       "id": "bad67e85-34cd-431a-9202-30945ebe5499"
      }
     },
     "output_type": "display_data"
    }
   ],
   "source": [
    "import pyreadstat\n",
    "import numpy as np\n",
    "import pandas as pd\n",
    "import panel as pn\n",
    "import plotly.express as px\n",
    "from scipy.stats import chi2_contingency\n",
    "from dython.nominal import associations\n",
    "import ppscore as pps\n",
    "import warnings\n",
    "warnings.simplefilter(\"ignore\")\n",
    "pn.extension('plotly', sizing_mode=\"stretch_width\", raw_css=[open(\"styling.css\").read()])"
   ]
  },
  {
   "cell_type": "code",
   "execution_count": 2,
   "metadata": {},
   "outputs": [],
   "source": [
    "df, meta = pyreadstat.read_sav(\n",
    "    'data.sav', encoding=\"ISO-8859-1\", apply_value_formats=True)\n",
    "df.drop([c for c in df.columns if any(c.startswith(x) for x in ['perception', 'gad', 'important', 'PHQ', 'IES'])], axis=1, inplace=True)\n",
    "df.replace('', np.nan, inplace=True)\n",
    "df.rename(columns={'classdepression21': 'depression_2021',\n",
    "                   'classanxiety21': 'anxiety_2021',\n",
    "                   'classptsd21': 'PTSD_2021',\n",
    "                   'classedepression23': 'depression_2023',\n",
    "                   \"classeanxiety23\": 'anxiety_2023',\n",
    "                   \"classeptsd23\": \"PTSD_2023\",\n",
    "                   'Interpretationdepression': 'PHQ9_2021',  # \n",
    "                   'Interpretationanxiete': 'GAD7_2021',  # \n",
    "                   'Interpretationestpt': 'IES-R_2021',  # \n",
    "                   'interpretationphq': 'PHQ9_2023',  # \n",
    "                   \"interpretationgad\": 'GAD7_2023',  # \n",
    "                   \"inter1ies\": 'IES-R_2023',  # \n",
    "                   'statutmartial': 'Martial_Status',  # \n",
    "                   'niveaudeducation': \"Educational_level\",  # \n",
    "                   'nombredepersonne': 'nb_person',  # \n",
    "                   'zonedhabitat': \"habitat_zone\",  # \n",
    "                   'niveausocioeconomique': 'social_level',  # \n",
    "                   'atcdssomatiques': 'illness_history',  # \n",
    "                   'atcdspsychiatriquespersonnels': 'personal_psy_illness_history',\n",
    "                   'datedelifectioncovid': \"covid_infection_date\",\n",
    "                   'assistancerespiratoire': 'respiratory_assistance',  # \n",
    "                   'lieudisolement': \"quanrantine_area\",  # \n",
    "                   'avezvscontinuerdetravailleraveclinfectioncovid': \"work_while_infected\",# \n",
    "                   'dureedarretdetravail': \"sick_leave_days\",  # \n",
    "                   'utilisezvslesmesuresdhygieneetdeprotectiondanslaviequotidienne': \"hygiene_measures\",  # \n",
    "                   'couvrezsystÃ©matiquementlabouche': 'mouth_covered',  # \n",
    "                   'appliquezvslesreglesdedistanciationphysique': 'distancing_measrues', # \n",
    "                   'avezvsreduitvoscontacts': 'reduced_contact',  # \n",
    "                   'lasourcedinformationdurantlapandemie': \"Covid_information_source\", # \n",
    "                   'avezvsconstatÃ©uneaugmentationdelachargedetravail': 'increased_workload', #\n",
    "                   'avezvsconsulterauparavantunpsy' : 'psy_consulted', \n",
    "                   'avezvseubesoindunsoutienpsychologique': \"psy_help_need\",  # \n",
    "                   'avezvseubesoinduneconsultationpsychiatrique': \"psy_consult_need\",\n",
    "                   'prenezvsdesmedicamentspsychotropes' : 'psy_drugs',\n",
    "                   'avezvsconsulteupsydepuisledebutdelepidemie': \"psy_consulted_since_covid\", # \n",
    "                   'atcdsomatique': 'illnesses_history',\n",
    "                   'atcdspsyfamiliaux' : 'family_psy_illness_history',\n",
    "                   'avezvssentiquevsavezstigmatise' : 'stigmatized', \n",
    "                   'pcrdecotrolepourreprise' : 'pcr_work_return',\n",
    "                   'avezvousprisdesdispositionsdelogementsspecialesdurantlapandÃ©mie' : 'housing_special_measures',\n",
    "                   'numtel': 'number',  # \n",
    "                   'V1': 'name',  # ,\n",
    "                   'Genre': 'gender',\n",
    "                   'longcovidsym': 'long_covid_symptoms'}, inplace=True)\n",
    "df['number'] = df.number.apply(lambda x: np.nan if len(str(x)) < 8 or not x.isdigit() else x[:8].strip())\n",
    "df[\"covid_infection_date\"] = pd.to_datetime(df.covid_infection_date).dt.to_period('M')\n",
    "df['age'] = df.age.astype(np.int8)\n",
    "df['sick_leave_days'] = df.sick_leave_days.astype(np.float32)\n",
    "df['nb_person'] = df.nb_person.astype(np.int8)\n",
    "df['age_class'] = pd.cut(df.age.astype('int8'), bins=[18, 25, 35, 45, 55, 65, 75, 85])\n",
    "df.drop(['name', 'number'], axis=1, inplace=True)"
   ]
  },
  {
   "cell_type": "code",
   "execution_count": 5,
   "metadata": {},
   "outputs": [],
   "source": [
    "columns = ['depression_2023', 'anxiety_2023', 'PTSD_2023', 'gender', 'age_class','social_level', 'Educational_level', 'Martial_Status', \n",
    "           'long_covid_symptoms']\n",
    "# define the select widgets\n",
    "select1 = pn.widgets.Select(name='X', options=columns)\n",
    "select2 = pn.widgets.Select(name='Y', options=columns)\n",
    "select3 = pn.widgets.Select(name='Z', options=columns)\n",
    "# function to update the crosstab based on the selected columns\n",
    "@pn.depends(select1.param.value, select2.param.value, select3.param.value)\n",
    "def update_crosstab(selected_column1, selected_column2, selected_column3):\n",
    "    cross_tab = pd.crosstab([df[selected_column1], df[selected_column2]], df[selected_column3],\n",
    "                            margins=True, margins_name=\"Total\", normalize='all').round(4)*100\n",
    "    return cross_tab.style.format(\"{:.2f}%\").background_gradient(cmap='cubehelix') \n",
    "# create a panel with the select widgets and the crosstab\n",
    "crosstab = pn.Column(pn.Row(select1, select2, select3, css_classes=['half-width']), update_crosstab, sizing_mode='stretch_width', \n",
    "                     css_classes=['flex-1', 'bordered'])     "
   ]
  },
  {
   "cell_type": "code",
   "execution_count": 8,
   "metadata": {},
   "outputs": [],
   "source": [
    "columns_xy = ['age', 'PHQ9_2023', 'GAD7_2023', 'IES-R_2023']\n",
    "columns_hue = [None, 'gender', 'habitat', 'psy_help_need']\n",
    "# define the select widgets\n",
    "select1 = pn.widgets.Select(name='X', options=columns_xy)\n",
    "select2 = pn.widgets.Select(name='Y', options=columns_xy)\n",
    "select3 = pn.widgets.Select(name='hue', options=columns_hue)\n",
    "# Function to update the crosstab based on the selected columns\n",
    "@pn.depends(select1.param.value, select2.param.value, select3.param.value)\n",
    "def update_scatterplot(selected_column1, selected_column2, selected_column3):\n",
    "    fig = px.scatter(df, x=selected_column1, y=selected_column2, color=selected_column3, trendline=\"ols\")#, color_discrete_sequence=px.colors.qualitative.Antique)\n",
    "    fig.update_layout(template='presentation',paper_bgcolor='rgba(0,0,0,0)', plot_bgcolor='rgba(0,0,0,0)',\n",
    "                      margin=dict(t=0, l=10, r=0, b=10),\n",
    "                      xaxis=dict(title_text='', tickfont=dict(family='Rockwell', color='white', size=9)),\n",
    "                      yaxis=dict(title_text='', tickfont=dict(family='Rockwell', color='white', size=9)),\n",
    "                      legend=dict(title_font=dict(family='Rockwell', color='white', size=12), font=dict(family='Rockwell', color='white', size=10)))\n",
    "    return pn.pane.Plotly(fig, sizing_mode='stretch_both')\n",
    "# Create a Panel with the Select widgets and the crosstab\n",
    "scatter = pn.Column(pn.Row(select1, select2, select3, css_classes=['half-width']), update_scatterplot, css_classes=['flex-13','bordered'])"
   ]
  },
  {
   "cell_type": "code",
   "execution_count": 9,
   "metadata": {},
   "outputs": [],
   "source": [
    "columns_hue = [None, 'gender', 'habitat', 'psy_help_need']\n",
    "columns_x = ['depression_2023', 'anxiety_2023', 'PTSD_2023', 'gender', 'age_class','social_level', 'Educational_level', 'Martial_Status']\n",
    "columns_y = ['PHQ9_2023', 'GAD7_2023', 'IES-R_2023']\n",
    "# Define the select widgets\n",
    "select_x = pn.widgets.Select(name='X', options=columns_x)\n",
    "select_y = pn.widgets.Select(name='Y', options=columns_y)\n",
    "select_hue_1 = pn.widgets.Select(name='hue 1', options=columns_hue) \n",
    "select_hue_2 = pn.widgets.Select(name='hue 2', options=columns_hue)\n",
    "# Function to update the crosstab based on the selected columns\n",
    "\n",
    "@pn.depends(select_x.param.value, select_y.param.value, select_hue_1.param.value, select_hue_2.param.value)\n",
    "def update_barplot(selected_column1, selected_column2, selected_column3, selected_column4):\n",
    "    fig = px.histogram(df, x=selected_column1, y=selected_column2, color=selected_column3, pattern_shape=selected_column4, barmode='group', histfunc='avg',\n",
    "                       text_auto='.2f')\n",
    "    fig.update_layout(template='presentation',paper_bgcolor='rgba(0,0,0,0)', plot_bgcolor='rgba(0,0,0,0)',\n",
    "                      margin=dict(t=5, l=10, r=0, b=10),\n",
    "                      xaxis=dict(title_text='', tickfont=dict(family='Rockwell', color='white', size=9)),\n",
    "                      yaxis=dict(title_text='', tickfont=dict(family='Rockwell', color='white', size=9)),\n",
    "                      legend=dict(title_font=dict(family='Rockwell', color='white', size=12), font=dict(family='Rockwell', color='white', size=10)))\n",
    "    fig.update_traces(textangle=0, textposition=\"outside\", cliponaxis=False, textfont=dict(family='Rockwell', color='white', size=10))\n",
    "    return pn.pane.Plotly(fig, sizing_mode='stretch_both')\n",
    "# Create a Panel with the Select widgets and the crosstab\n",
    "barplot = pn.Column(pn.Row(select_x, select_y, select_hue_1, select_hue_2, css_classes=['half-width']), update_barplot)"
   ]
  },
  {
   "cell_type": "code",
   "execution_count": 10,
   "metadata": {},
   "outputs": [],
   "source": [
    "columns_hue = [None, 'gender', 'habitat', 'psy_help_need']\n",
    "columns_x = ['depression_2023', 'anxiety_2023', 'PTSD_2023']\n",
    "# Define the select widgets\n",
    "select_x = pn.widgets.Select(name='X', options=columns_x)\n",
    "select_hue_1 = pn.widgets.Select(name='hue 1', options=columns_hue)\n",
    "select_hue_2 = pn.widgets.Select(name='hue 2', options=columns_hue)\n",
    "# Function to update the crosstab based on the selected columns\n",
    "\n",
    "@pn.depends(select_x.param.value, select_hue_1.param.value, select_hue_2.param.value)\n",
    "def update_countplot(selected_column1, selected_column2, selected_column3):\n",
    "    fig = px.histogram(df, x=selected_column1, color=selected_column2, pattern_shape=selected_column3, barmode='group', histfunc='count', histnorm='percent',\n",
    "                       text_auto='.2f')\n",
    "    fig.update_layout(template='presentation',paper_bgcolor='rgba(0,0,0,0)', plot_bgcolor='rgba(0,0,0,0)',\n",
    "                      margin=dict(t=5, l=10, r=0, b=10),\n",
    "                      xaxis=dict(title_text='', tickfont=dict(family='Rockwell', color='white', size=9)),\n",
    "                      yaxis=dict(title_text='', tickfont=dict(family='Rockwell', color='white', size=9)),\n",
    "                      legend=dict(title_font=dict(family='Rockwell', color='white', size=12), font=dict(family='Rockwell', color='white', size=10)))\n",
    "    fig.update_traces(textangle=0, textposition=\"outside\", cliponaxis=False, textfont=dict(family='Rockwell', color='white', size=10))\n",
    "    return pn.pane.Plotly(fig, sizing_mode='stretch_both')\n",
    "\n",
    "# Create a Panel with the Select widgets and the crosstab\n",
    "countplot = pn.Column(pn.Row(select_x, select_hue_1, select_hue_2, css_classes=['half-width']), update_countplot)"
   ]
  },
  {
   "cell_type": "code",
   "execution_count": 11,
   "metadata": {},
   "outputs": [],
   "source": [
    "columns_hue = [None, 'gender', 'habitat', 'psy_help_need']\n",
    "columns_x = ['PHQ9_2023', 'GAD7_2023', 'IES-R_2023']\n",
    "# Define the select widgets\n",
    "select_x = pn.widgets.Select(name='X', options=columns_x)\n",
    "select_hue_1 = pn.widgets.Select(name='hue 1', options=columns_hue)\n",
    "select_hue_2 = pn.widgets.Select(name='hue 2', options=columns_hue)\n",
    "# Function to update the crosstab based on the selected columns\n",
    "@pn.depends(select_x.param.value, select_hue_1.param.value, select_hue_2.param.value)\n",
    "def update_histplot(selected_column1, selected_column2, selected_column3):\n",
    "    fig = px.histogram(df, x=selected_column1, color=selected_column2, pattern_shape=selected_column3, histnorm='probability', barmode='group',\n",
    "                       nbins=int(np.ptp(df[selected_column1].dropna())), text_auto='.2f')\n",
    "    fig.update_layout(template='presentation',paper_bgcolor='rgba(0,0,0,0)', plot_bgcolor='rgba(0,0,0,0)', bargap=.1,\n",
    "                      margin=dict(t=5, l=10, r=0, b=10),\n",
    "                      xaxis=dict(title_text='', tickfont=dict(family='Rockwell', color='white', size=9)),\n",
    "                      yaxis=dict(title_text='', tickfont=dict(family='Rockwell', color='white', size=9)),\n",
    "                      legend=dict(title_font=dict(family='Rockwell', color='white', size=12), font=dict(family='Rockwell', color='white', size=10)))\n",
    "    fig.update_traces(textangle=0, textposition=\"outside\", cliponaxis=False, textfont=dict(family='Rockwell', color='white', size=10))\n",
    "    return pn.pane.Plotly(fig, sizing_mode='stretch_both')\n",
    "# Create a Panel with the Select widgets and the crosstab\n",
    "histplot = pn.Column(pn.Row(select_x, select_hue_1, select_hue_2, css_classes=['half-width']), update_histplot)"
   ]
  },
  {
   "cell_type": "code",
   "execution_count": 13,
   "metadata": {},
   "outputs": [],
   "source": [
    "dark_gray_hex_colors = [\n",
    "    '#0A0A0A',  # Very dark gray\n",
    "    '#141414',\n",
    "    '#1E1E1E',\n",
    "    '#282828',\n",
    "    '#323232',\n",
    "    '#3C3C3C'   # Dark gray\n",
    "]"
   ]
  },
  {
   "cell_type": "code",
   "execution_count": 14,
   "metadata": {},
   "outputs": [],
   "source": [
    "columns_xy = ['depression_2023', 'anxiety_2023', 'PTSD_2023', 'long_covid_symptoms']\n",
    "# define the select widgets\n",
    "select1 = pn.widgets.Select(name='First Level', options=columns_xy)\n",
    "select2 = pn.widgets.Select(name='Second Level', options=columns_xy)\n",
    "# Function to update the crosstab based on the selected columns\n",
    "@pn.depends(select1.param.value, select2.param.value)\n",
    "def update_mosaic(selected_column1, selected_column2):\n",
    "    if selected_column1 == selected_column2:\n",
    "        fig = px.treemap(df.dropna(subset=[selected_column1, selected_column2]), path=[px.Constant(\"All Levels\"), selected_column1], color=selected_column1,\n",
    "                         hover_data=[selected_column1], color_discrete_sequence=dark_gray_hex_colors)\n",
    "    else:\n",
    "        fig = px.treemap(df.dropna(subset=[selected_column1, selected_column2]), path=[px.Constant(\"All Levels\"), selected_column1, selected_column2], \n",
    "                         color=selected_column2, hover_data=[selected_column1, selected_column2], color_discrete_sequence=dark_gray_hex_colors)\n",
    "    fig.update_layout(template='presentation', paper_bgcolor='rgba(0,0,0,0)', plot_bgcolor='rgba(0,0,0,0)', margin=dict(t=0, l=25, r=0, b=0))\n",
    "    return pn.pane.Plotly(fig, sizing_mode='stretch_both')\n",
    "\n",
    "#create a panel with the Select widgets and the crosstab      \n",
    "treemap = pn.Column(pn.Row(select1, select2), update_mosaic, css_classes=['flex-1', 'bordered'])"
   ]
  },
  {
   "cell_type": "code",
   "execution_count": 3,
   "metadata": {},
   "outputs": [],
   "source": [
    "df_corr = df.drop(['depression_2021', 'anxiety_2021', 'PTSD_2021', 'depression_2023', 'anxiety_2023', \"PTSD_2023\", 'personal_psy_illness_history',\n",
    "                   'mouth_covered', 'distancing_measrues', 'age_class', 'illness_history', 'siouiprÃ©cisezledgretenu', 'sioui', 'Symptomes', \n",
    "                   'siouipreciserlestttprescrits', \"hygiene_measures\", 'sÃ©quellesdelamaladie', 'illnesses_history', 'diagnosticretenupar',\n",
    "                   'traitementpris'], axis=1).astype('category')   \n",
    "\n",
    "df_corr_id = hash(pd.util.hash_pandas_object(df_corr).sum())"
   ]
  },
  {
   "cell_type": "code",
   "execution_count": 6,
   "metadata": {},
   "outputs": [],
   "source": [
    "def calculate_pvalue_matrix(df):\n",
    "    columns=df.columns\n",
    "    pvalue_matrix = pd.DataFrame(index=columns, columns=columns)\n",
    "    for col1 in columns:\n",
    "        for col2 in columns:\n",
    "            if col1 == col2:\n",
    "                pvalue_matrix.loc[col1, col2] = 1\n",
    "            else:\n",
    "                _, p, _, _ = chi2_contingency(pd.crosstab(df[col1], df[col2]))\n",
    "                pvalue_matrix.loc[col1, col2] = p\n",
    "    return pvalue_matrix.astype(float)"
   ]
  },
  {
   "cell_type": "code",
   "execution_count": 7,
   "metadata": {},
   "outputs": [],
   "source": [
    "@pn.cache\n",
    "def corr_matrices(df, df_id):\n",
    "    return {'chi' : associations(df, compute_only=True, multiprocessing=True)['corr'],\n",
    "            'pps' : pps.matrix(df, invalid_score=0)[['x', 'y', 'ppscore']].pivot(columns='x', index='y', values='ppscore'),\n",
    "            'pvalue' : calculate_pvalue_matrix(df).round(4)}"
   ]
  },
  {
   "cell_type": "code",
   "execution_count": 8,
   "metadata": {},
   "outputs": [],
   "source": [
    "fig = px.imshow(corr_matrices(df_corr, df_corr_id)['pvalue'], text_auto=\".2f\", color_continuous_scale='cividis', aspect=\"auto\") \n",
    "fig.update_layout(template='presentation',paper_bgcolor='rgba(0,0,0,0)', plot_bgcolor='rgba(0,0,0,0)',\n",
    "                  margin=dict(t=5, l=90, r=0, b=90),\n",
    "                  xaxis=dict(title_text='', tickfont=dict(family='Rockwell', color='white', size=9)),\n",
    "                  yaxis=dict(title_text='', tickfont=dict(family='Rockwell', color='white', size=9)),\n",
    "                  legend=dict(title_font=dict(family='Rockwell', color='white', size=12), font=dict(family='Rockwell', color='white', size=10)))\n",
    "corr_pvalue = pn.pane.Plotly(fig, sizing_mode='stretch_both')"
   ]
  },
  {
   "cell_type": "code",
   "execution_count": 10,
   "metadata": {},
   "outputs": [],
   "source": [
    "fig = px.imshow(corr_matrices(df_corr, df_corr_id)['chi'], text_auto=\".2f\", color_continuous_scale='cividis', aspect=\"auto\")\n",
    "fig.update_layout(template='presentation',paper_bgcolor='rgba(0,0,0,0)', plot_bgcolor='rgba(0,0,0,0)',\n",
    "                      margin=dict(t=5, l=90, r=0, b=90),\n",
    "                      xaxis=dict(title_text='', tickfont=dict(family='Rockwell', color='white', size=9)),\n",
    "                      yaxis=dict(title_text='', tickfont=dict(family='Rockwell', color='white', size=9)),\n",
    "                      legend=dict(title_font=dict(family='Rockwell', color='white', size=12), font=dict(family='Rockwell', color='white', size=10)))\n",
    "corr_chi = pn.pane.Plotly(fig, sizing_mode='stretch_both')"
   ]
  },
  {
   "cell_type": "code",
   "execution_count": 12,
   "metadata": {},
   "outputs": [],
   "source": [
    "fig = px.imshow(corr_matrices(df_corr, df_corr_id)['pps'], text_auto=\".2f\", color_continuous_scale='cividis', aspect=\"auto\") \n",
    "fig.update_layout(template='presentation',paper_bgcolor='rgba(0,0,0,0)', plot_bgcolor='rgba(0,0,0,0)',\n",
    "                  margin=dict(t=5, l=90, r=0, b=90),\n",
    "                  xaxis=dict(title_text='', tickfont=dict(family='Rockwell', color='white', size=9)),\n",
    "                  yaxis=dict(title_text='', tickfont=dict(family='Rockwell', color='white', size=9)),\n",
    "                  legend=dict(title_font=dict(family='Rockwell', color='white', size=12), font=dict(family='Rockwell', color='white', size=10)))\n",
    "corr_pps = pn.pane.Plotly(fig, sizing_mode='stretch_both')"
   ]
  },
  {
   "cell_type": "code",
   "execution_count": 29,
   "metadata": {},
   "outputs": [],
   "source": [
    "%load_ext autoreload\n",
    "%autoreload 2\n",
    " \n",
    "template = pn.template.SlidesTemplate(site=\"Faculté de Médecine de Tunis\", title=\"Covid 19 Mental health Statiscal Dashboard\", theme=pn.template.DarkTheme)\n",
    "\n",
    "template.main.extend([pn.Row(pn.Column(scatter, crosstab, css_classes=['flex-3']), treemap)])\n",
    "template.main.append(pn.Row(pn.Column(pn.Tabs(('countplot', countplot), ('barplot', barplot), ('histplot', histplot), \n",
    "                                              css_classes=['bordered']),\n",
    "                                      crosstab),  \n",
    "                            pn.Tabs(('chi-2', corr_chi), \n",
    "                                    ('pps', corr_pps),\n",
    "                                    ('p-value', corr_pvalue),\n",
    "                                    css_classes=['bordered'])))\n",
    "template.servable();"
   ]
  }
 ],
 "metadata": {
  "kernelspec": {
   "display_name": "covid_mental",
   "language": "python",
   "name": "python3"
  },
  "language_info": {
   "codemirror_mode": {
    "name": "ipython",
    "version": 3
   },
   "file_extension": ".py",
   "mimetype": "text/x-python",
   "name": "python",
   "nbconvert_exporter": "python",
   "pygments_lexer": "ipython3",
   "version": "3.11.3"
  }
 },
 "nbformat": 4,
 "nbformat_minor": 2
}
